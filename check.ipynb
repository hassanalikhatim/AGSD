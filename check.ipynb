{
 "cells": [
  {
   "cell_type": "code",
   "execution_count": 1,
   "metadata": {},
   "outputs": [
    {
     "name": "stdout",
     "output_type": "stream",
     "text": [
      "\u001b[0m\u001b[01;34m_0_general_ML\u001b[0m/                check.ipynb      _p1c_motivational.py  \u001b[01;34mutils_\u001b[0m/\n",
      "\u001b[01;34m_1_adversarial_ML\u001b[0m/            _p1a_hasnets.py  \u001b[01;34mp1_hasnets\u001b[0m/\n",
      "\u001b[01;34m_3_federated_learning_utils\u001b[0m/  _p1b_hasnets.py  README.md\n"
     ]
    }
   ],
   "source": [
    "%ls"
   ]
  },
  {
   "cell_type": "code",
   "execution_count": 2,
   "metadata": {},
   "outputs": [],
   "source": [
    "import os"
   ]
  },
  {
   "cell_type": "code",
   "execution_count": 3,
   "metadata": {},
   "outputs": [
    {
     "name": "stdout",
     "output_type": "stream",
     "text": [
      "\n",
      "\n",
      "****************************** NEW COMPILATION ******************************\n",
      "Compilation # 1/2.\n",
      "Number of non-conducted experiments: 0\n",
      "Model configuration: {'model_architecture': 'mnist_cnn', 'learning_rate': 0.1, 'loss_fn': 'crossentropy', 'epochs': 500, 'batch_size': 512, 'optimizer': 'sgd', 'momentum': 0.9, 'weight_decay': 0.0005, 'patience': 50, 'split_type': 'iid', 'dataset_name': 'mnist'}\n",
      "Server configuration: {'num_clients': 100, 'clients_ratio': 0.1, 'healing_set_size': 50, 'epsilon': 0.0, 'healing_epochs': 1, 'type': 'agsd_id'}\n",
      "Clients configuration: {'simple_(poison-0.25)_(scale-2)': 45, 'clean': 55}\n",
      "\n",
      "\n",
      "csv file path is: ../../__all_results__/_p1_hasnets/results_hgsd_(std_transfer)_(efficient_sampling)_(guided_clustering)/mnist/csv_file/accuracies_and_losses_test_compiled.csv\n",
      "\n",
      "Number of clean clients:  55\n",
      "##################################################\n",
      "Model file not found at: ../../__all_results__/_p1_hasnets/results_hgsd_(std_transfer)_(efficient_sampling)_(guided_clustering)/mnist/_(num_clients-100)_(clients_ratio-0.1)_(healing_set_size-50)_(epsilon-0.0)_(healing_epochs-1)_(type-agsd_id)/_(simple_(poison-0.25)_(scale-2)-45)_(clean-55)/mnist/torch_models/federated_(model_architecture-mnist_cnn)_(learning_rate-0.1)_(loss_fn-crossentropy)_(epochs-500)_(batch_size-512)_(optimizer-sgd)_(momentum-0.9)_(weight_decay-0.0005)_(patience-50)_(dataset_name-mnist).pth.\n",
      "##################################################\n",
      "WARNING: Experiment has not been conducted.\n",
      "Preparing clients: 44\n",
      "Preparing clients: 99\n",
      "\n",
      "\n",
      "\n",
      "****************************************\n",
      "../../__all_results__/_p1_hasnets/results_hgsd_(std_transfer)_(efficient_sampling)_(guided_clustering)/mnist/_(num_clients-100)_(clients_ratio-0.1)_(healing_set_size-50)_(epsilon-0.0)_(healing_epochs-1)_(type-hasnet_heldout)/_(simple_(poison-0.25)_(scale-2)-45)_(clean-55)/mnist/torch_models/\n",
      "federated_(model_architecture-mnist_cnn)_(learning_rate-0.1)_(loss_fn-crossentropy)_(epochs-500)_(batch_size-512)_(optimizer-sgd)_(momentum-0.9)_(weight_decay-0.0005)_(patience-50)_(dataset_name-mnist)\n",
      "****************************************\n",
      "Loaded pretrained weights.\n",
      "Model found and loaded: True.\n",
      "\n",
      "\n",
      "****************************** NEW COMPILATION ******************************\n",
      "Compilation # 2/2.\n",
      "Number of non-conducted experiments: 1\n",
      "Model configuration: {'model_architecture': 'mnist_cnn', 'learning_rate': 0.1, 'loss_fn': 'crossentropy', 'epochs': 500, 'batch_size': 512, 'optimizer': 'sgd', 'momentum': 0.9, 'weight_decay': 0.0005, 'patience': 50, 'split_type': 'iid', 'dataset_name': 'mnist'}\n",
      "Server configuration: {'num_clients': 100, 'clients_ratio': 0.1, 'healing_set_size': 50, 'epsilon': 0.0, 'healing_epochs': 1, 'hasnet_attack_iterations': 30, 'type': 'agsd_ood'}\n",
      "Clients configuration: {'simple_(poison-0.25)_(scale-2)': 45, 'clean': 55}\n",
      "\n",
      "\n",
      "csv file path is: ../../__all_results__/_p1_hasnets/results_hgsd_(std_transfer)_(efficient_sampling)_(guided_clustering)/mnist/csv_file/accuracies_and_losses_test_compiled.csv\n",
      "\n",
      "Number of clean clients:  55\n",
      "##################################################\n",
      "Model file not found at: ../../__all_results__/_p1_hasnets/results_hgsd_(std_transfer)_(efficient_sampling)_(guided_clustering)/mnist/_(num_clients-100)_(clients_ratio-0.1)_(healing_set_size-50)_(epsilon-0.0)_(healing_epochs-1)_(hasnet_attack_iterations-30)_(type-agsd_ood)/_(simple_(poison-0.25)_(scale-2)-45)_(clean-55)/mnist/torch_models/federated_(model_architecture-mnist_cnn)_(learning_rate-0.1)_(loss_fn-crossentropy)_(epochs-500)_(batch_size-512)_(optimizer-sgd)_(momentum-0.9)_(weight_decay-0.0005)_(patience-50)_(dataset_name-mnist).pth.\n",
      "##################################################\n",
      "WARNING: Experiment has not been conducted.\n",
      "Preparing clients: 44\n",
      "Preparing clients: 99\n",
      "\n",
      "\n",
      "\n",
      "****************************************\n",
      "../../__all_results__/_p1_hasnets/results_hgsd_(std_transfer)_(efficient_sampling)_(guided_clustering)/mnist/_(num_clients-100)_(clients_ratio-0.1)_(healing_set_size-50)_(epsilon-0.0)_(healing_epochs-1)_(hasnet_attack_iterations-30)_(type-hasnet_ood)/_(simple_(poison-0.25)_(scale-2)-45)_(clean-55)/mnist/torch_models/\n",
      "federated_(model_architecture-mnist_cnn)_(learning_rate-0.1)_(loss_fn-crossentropy)_(epochs-500)_(batch_size-512)_(optimizer-sgd)_(momentum-0.9)_(weight_decay-0.0005)_(patience-50)_(dataset_name-mnist)\n",
      "****************************************\n",
      "Loaded pretrained weights.\n",
      "Model found and loaded: True.\n"
     ]
    }
   ],
   "source": [
    "!python _p1a_hasnets.py"
   ]
  },
  {
   "cell_type": "code",
   "execution_count": 10,
   "metadata": {},
   "outputs": [
    {
     "data": {
      "text/plain": [
       "True"
      ]
     },
     "execution_count": 10,
     "metadata": {},
     "output_type": "execute_result"
    }
   ],
   "source": [
    "dir_experiment = 'results_hgsd_(std_transfer)_(efficient_sampling)_(guided_clustering)'\n",
    "dir_server = '_(num_clients-100)_(clients_ratio-0.1)_(healing_set_size-50)_(epsilon-0.0)_(healing_epochs-1)_(hasnet_attack_iterations-30)_(type-hasnet_ood)'\n",
    "dir_client = '_(simple_(poison-0.25)_(scale-2)-45)_(clean-55)'\n",
    "dirs = os.listdir(f'../../__all_results__/_p1_hasnets/{dir_experiment}/mnist/{dir_server}/{dir_client}/mnist/torch_models/')\n",
    "dir_of_interest = 'federated_(model_architecture-mnist_cnn)_(learning_rate-0.1)_(loss_fn-crossentropy)_(epochs-500)_(batch_size-512)_(optimizer-sgd)_(momentum-0.9)_(weight_decay-0.0005)_(patience-50)_(dataset_name-mnist)'\n",
    "\n",
    "dir_of_interest+'.pth' in dirs"
   ]
  },
  {
   "cell_type": "code",
   "execution_count": 9,
   "metadata": {},
   "outputs": [
    {
     "data": {
      "text/plain": [
       "['federated_(model_architecture-mnist_cnn)_(learning_rate-0.1)_(loss_fn-crossentropy)_(epochs-500)_(batch_size-512)_(optimizer-sgd)_(momentum-0.9)_(weight_decay-0.0005)_(patience-50)_(dataset_name-mnist).pth',\n",
       " 'federated_(model_architecture-mnist_cnn)_(learning_rate-0.1)_(loss_fn-crossentropy)_(epochs-500)_(batch_size-512)_(optimizer-sgd)_(momentum-0.9)_(weight_decay-0.0005)_(patience-50)_(dataset_name-mnist)_optimizer.pth']"
      ]
     },
     "execution_count": 9,
     "metadata": {},
     "output_type": "execute_result"
    }
   ],
   "source": [
    "dirs"
   ]
  },
  {
   "cell_type": "code",
   "execution_count": null,
   "metadata": {},
   "outputs": [],
   "source": []
  }
 ],
 "metadata": {
  "kernelspec": {
   "display_name": "u_torch",
   "language": "python",
   "name": "python3"
  },
  "language_info": {
   "codemirror_mode": {
    "name": "ipython",
    "version": 3
   },
   "file_extension": ".py",
   "mimetype": "text/x-python",
   "name": "python",
   "nbconvert_exporter": "python",
   "pygments_lexer": "ipython3",
   "version": "3.12.2"
  }
 },
 "nbformat": 4,
 "nbformat_minor": 2
}
